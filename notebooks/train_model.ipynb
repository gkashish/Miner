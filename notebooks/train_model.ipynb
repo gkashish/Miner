{
 "cells": [
  {
   "cell_type": "code",
   "execution_count": 2,
   "metadata": {
    "collapsed": true
   },
   "outputs": [],
   "source": [
    "import gzip\n",
    "import gensim\n",
    "import logging\n"
   ]
  },
  {
   "cell_type": "code",
   "execution_count": 4,
   "metadata": {},
   "outputs": [],
   "source": [
    "data_file = \"/home/gkashish/PycharmProjects/Miner/data/reviews_data.txt.gz\"\n",
    "\n"
   ]
  },
  {
   "cell_type": "code",
   "execution_count": 4,
   "metadata": {},
   "outputs": [
    {
     "name": "stderr",
     "output_type": "stream",
     "text": [
      "WARNING:gensim.models.base_any2vec:consider setting layer size to a multiple of 4 for greater performance\n"
     ]
    }
   ],
   "source": [
    "def read_input(input_file):\n",
    "    logging.info(\"reading file {0}...this may take a while\".format(input_file))\n",
    "\n",
    "    with gzip.open(input_file, 'rb') as f:\n",
    "        for i, line in enumerate(f):\n",
    "\n",
    "            if i % 10000 == 0:\n",
    "                logging.info(\"read {0} reviews\".format(i))\n",
    "            yield gensim.utils.simple_preprocess(line)\n",
    "\n",
    "\n",
    "documents = list(read_input(data_file))\n",
    "logging.info(\"Done reading data file\")\n",
    "model = gensim.models.Word2Vec(documents, size=150, window=10, min_count=2, workers=10)\n",
    "\n"
   ]
  },
  {
   "cell_type": "code",
   "execution_count": 8,
   "metadata": {},
   "outputs": [
    {
     "name": "stderr",
     "output_type": "stream",
     "text": [
      "WARNING:gensim.models.base_any2vec:consider setting layer size to a multiple of 4 for greater performance\n"
     ]
    }
   ],
   "source": [
    "#model.train(documents, total_examples=len(documents), epochs=10)\n",
    "#model.wv.save(\"/home/gkashish/PycharmProjects/Miner/models/trained_model\")\n"
   ]
  },
  {
   "cell_type": "code",
   "execution_count": 5,
   "metadata": {
    "collapsed": false
   },
   "outputs": [
    {
     "data": {
      "text/plain": [
       "[('pony', 0.44129180908203125),\n ('costs', 0.4326523542404175),\n ('expenses', 0.4227043390274048),\n ('beating', 0.4190179705619812),\n ('outlay', 0.40686744451522827)]"
      ]
     },
     "execution_count": 5,
     "metadata": {},
     "output_type": "execute_result"
    }
   ],
   "source": [
    "ww = model.wv.load(\"/home/gkashish/PycharmProjects/Miner/models/trained_model\")\n",
    "ww.most_similar(positive=\"expenditure\", topn=5)\n"
   ]
  },
  {
   "cell_type": "code",
   "execution_count": 26,
   "metadata": {},
   "outputs": [
    {
     "data": {
      "text/plain": [
       "[('rice', 0.7623183727264404),\n ('sauce', 0.7582173943519592),\n ('tuna', 0.7388929128646851),\n ('potato', 0.7384029626846313),\n ('mushrooms', 0.7370007634162903)]"
      ]
     },
     "execution_count": 26,
     "metadata": {},
     "output_type": "execute_result"
    }
   ],
   "source": [
    "ww.most_similar(positive=\"tomato\", topn=5)\n"
   ]
  },
  {
   "cell_type": "code",
   "execution_count": 33,
   "metadata": {
    "collapsed": false
   },
   "outputs": [
    {
     "data": {
      "text/plain": [
       "[('drunken', 0.5456129312515259),\n ('pimps', 0.5361446142196655),\n ('drunk', 0.5313363075256348),\n ('strippers', 0.5089537501335144),\n ('meth', 0.5086512565612793),\n ('gang', 0.5068942308425903),\n ('prostitutes', 0.5044379234313965),\n ('bikini', 0.5009748339653015),\n ('bums', 0.49807244539260864),\n ('outfits', 0.49657905101776123)]"
      ]
     },
     "execution_count": 33,
     "metadata": {},
     "output_type": "execute_result"
    }
   ],
   "source": [
    "ww.most_similar(positive=\"stripper\", topn=10)\n"
   ]
  },
  {
   "cell_type": "code",
   "execution_count": null,
   "metadata": {},
   "outputs": [],
   "source": [
    ""
   ]
  }
 ],
 "metadata": {
  "kernelspec": {
   "display_name": "Python 2",
   "language": "python",
   "name": "python2"
  },
  "language_info": {
   "codemirror_mode": {
    "name": "ipython",
    "version": 2
   },
   "file_extension": ".py",
   "mimetype": "text/x-python",
   "name": "python",
   "nbconvert_exporter": "python",
   "pygments_lexer": "ipython2",
   "version": "2.7.6"
  }
 },
 "nbformat": 4,
 "nbformat_minor": 0
}
